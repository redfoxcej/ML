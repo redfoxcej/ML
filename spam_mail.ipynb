{
  "nbformat": 4,
  "nbformat_minor": 0,
  "metadata": {
    "colab": {
      "name": "spam_mail.ipynb",
      "version": "0.3.2",
      "provenance": [],
      "include_colab_link": true
    },
    "kernelspec": {
      "name": "python3",
      "display_name": "Python 3"
    }
  },
  "cells": [
    {
      "cell_type": "markdown",
      "metadata": {
        "id": "view-in-github",
        "colab_type": "text"
      },
      "source": [
        "[View in Colaboratory](https://colab.research.google.com/github/redfoxcej/ML/blob/master/spam_mail.ipynb)"
      ]
    },
    {
      "metadata": {
        "id": "M_lt1Huut9nM",
        "colab_type": "code",
        "colab": {}
      },
      "cell_type": "code",
      "source": [
        "from sklearn.feature_extraction.text import CountVectorizer"
      ],
      "execution_count": 0,
      "outputs": []
    },
    {
      "metadata": {
        "id": "Vn8Yg6pKuLXK",
        "colab_type": "code",
        "colab": {}
      },
      "cell_type": "code",
      "source": [
        ""
      ],
      "execution_count": 0,
      "outputs": []
    },
    {
      "metadata": {
        "id": "zsVP_HvbuS6X",
        "colab_type": "code",
        "colab": {}
      },
      "cell_type": "code",
      "source": [
        "l=[\n",
        "\"You’re officially a Kaggler. Now what? Kaggle <mark.mcdonald@kaggle.intercom-mail.com> Welcome euijun! Kaggle has everything you need to jump right into an exciting data science project. Things like:A huge repository of datasets A powerful, cloud-based computational environment A vibrant, friendly community to collaborate with The best place to start is see what projects top Kagglers are working on right now. Then start your own, fellow Kaggler! Best, Mark from Kaggle\",\n",
        "\"A New Data Science for Good Challenge with The Center for Policing Equ Christopher from Kaggle <christopher.crawford@kaggle.intercom-mail.com> Hi @redfoxcej, Today we're launching a new Data Science for Good challenge with The Center for Policing Equity (CPE), with $15,000 in total prizes! Read on for details and then click \\\"Join the Challenge\\\" if you'd like to compete or dig deeper into the specifics.Challenge Description: How do you measure justice? How do you solve the problem of racism in law enforcement? Collaborate with CPE in this Kaggle Data Science for Good Challenge to analyze racial inequality in police activity. The central part of this challenge involves making use of city, county, and census tract level data and combining it with geographic units that police departments use for deployment areas (e.g., precincts) and policies.  Host: Center for Policing Equity The Center for Policing Equity is an organization that consists of research scientists, race and equity experts, data virtuosos, and community trainers. Through partnerships with law enforcement and communities, CPE uses data to build fair and just systems that bridge the divide between communication, generational mistrust, and suffering. Center for Policing Equity Important deadlines: 30 October 2018: Kernels Award Announcement 4 December 2018 : Challenge Deadline 11 December 2018: Winners of the Primary Prize Track Announced Join the Challenge Good luck, The Kaggle Teem\"\n",
        "]"
      ],
      "execution_count": 0,
      "outputs": []
    },
    {
      "metadata": {
        "id": "I2DWgXhmuVaC",
        "colab_type": "code",
        "colab": {
          "base_uri": "https://localhost:8080/",
          "height": 55
        },
        "outputId": "cfef6c73-0e4c-458f-91c7-b1628d8b07d0"
      },
      "cell_type": "code",
      "source": [
        "print(l)"
      ],
      "execution_count": 3,
      "outputs": [
        {
          "output_type": "stream",
          "text": [
            "['You’re officially a Kaggler. Now what? Kaggle <mark.mcdonald@kaggle.intercom-mail.com> Welcome euijun! Kaggle has everything you need to jump right into an exciting data science project. Things like:A huge repository of datasets A powerful, cloud-based computational environment A vibrant, friendly community to collaborate with The best place to start is see what projects top Kagglers are working on right now. Then start your own, fellow Kaggler! Best, Mark from Kaggle', 'A New Data Science for Good Challenge with The Center for Policing Equ Christopher from Kaggle <christopher.crawford@kaggle.intercom-mail.com> Hi @redfoxcej, Today we\\'re launching a new Data Science for Good challenge with The Center for Policing Equity (CPE), with $15,000 in total prizes! Read on for details and then click \"Join the Challenge\" if you\\'d like to compete or dig deeper into the specifics.Challenge Description: How do you measure justice? How do you solve the problem of racism in law enforcement? Collaborate with CPE in this Kaggle Data Science for Good Challenge to analyze racial inequality in police activity. The central part of this challenge involves making use of city, county, and census tract level data and combining it with geographic units that police departments use for deployment areas (e.g., precincts) and policies.  Host: Center for Policing Equity The Center for Policing Equity is an organization that consists of research scientists, race and equity experts, data virtuosos, and community trainers. Through partnerships with law enforcement and communities, CPE uses data to build fair and just systems that bridge the divide between communication, generational mistrust, and suffering. Center for Policing Equity Important deadlines: 30 October 2018: Kernels Award Announcement 4 December 2018 : Challenge Deadline 11 December 2018: Winners of the Primary Prize Track Announced Join the Challenge Good luck, The Kaggle Teem']\n"
          ],
          "name": "stdout"
        }
      ]
    },
    {
      "metadata": {
        "id": "7rv12Yu0ubFz",
        "colab_type": "code",
        "colab": {}
      },
      "cell_type": "code",
      "source": [
        "cv=CountVectorizer(stop_words=\"english\",max_features=500)"
      ],
      "execution_count": 0,
      "outputs": []
    },
    {
      "metadata": {
        "id": "J8VJJF2sughA",
        "colab_type": "code",
        "colab": {}
      },
      "cell_type": "code",
      "source": [
        ""
      ],
      "execution_count": 0,
      "outputs": []
    }
  ]
}